{
 "cells": [
  {
   "cell_type": "code",
   "execution_count": null,
   "metadata": {},
   "outputs": [],
   "source": [
    "%pip install pycaret"
   ]
  },
  {
   "cell_type": "code",
   "execution_count": null,
   "metadata": {},
   "outputs": [],
   "source": [
    "import pandas as pd\n",
    "from imblearn.combine import SMOTEENN\n",
    "import pycaret\n",
    "from pycaret.classification import setup\n",
    "from pycaret.classification import compare_models"
   ]
  },
  {
   "cell_type": "code",
   "execution_count": null,
   "metadata": {},
   "outputs": [],
   "source": [
    "df = pd.read_csv('neo.csv')"
   ]
  },
  {
   "cell_type": "code",
   "execution_count": null,
   "metadata": {},
   "outputs": [],
   "source": [
    "print(df.dtypes)"
   ]
  },
  {
   "cell_type": "code",
   "execution_count": null,
   "metadata": {},
   "outputs": [],
   "source": [
    "# Setup environment\n",
    "s = setup(\n",
    "    data=df,\n",
    "    target='hazardous',\n",
    "    experiment_name='Neo Prediction',\n",
    "    session_id=42,\n",
    "    train_size=0.75,\n",
    "    categorical_features=['orbiting_body'],\n",
    "    numeric_features=['est_diameter_min', 'est_diameter_max', 'relative_velocity', 'miss_distance', 'absolute_magnitude'],\n",
    "    normalize=True,\n",
    "    normalize_method='minmax',\n",
    "    fix_imbalance=True,\n",
    "    fix_imbalance_method=SMOTEENN(),\n",
    "    date_features=None,\n",
    "    ignore_features=['name', 'sentry_object'],\n",
    "    remove_outliers=True,\n",
    "    outliers_threshold=0.05,\n",
    "    remove_multicollinearity=True,\n",
    "    multicollinearity_threshold=0.9,\n",
    "    polynomial_features=True,\n",
    "    polynomial_degree=2\n",
    ")\n"
   ]
  },
  {
   "cell_type": "code",
   "execution_count": null,
   "metadata": {},
   "outputs": [],
   "source": [
    "compare_models()"
   ]
  }
 ],
 "metadata": {
  "kernelspec": {
   "display_name": "Python 3.10.7 64-bit",
   "language": "python",
   "name": "python3"
  },
  "language_info": {
   "codemirror_mode": {
    "name": "ipython",
    "version": 3
   },
   "file_extension": ".py",
   "mimetype": "text/x-python",
   "name": "python",
   "nbconvert_exporter": "python",
   "pygments_lexer": "ipython3",
   "version": "3.10.7"
  },
  "orig_nbformat": 4,
  "vscode": {
   "interpreter": {
    "hash": "87d6d355f48fffd5723e1d60c39053d3c6990dcf700e1bac4c1372d54aa4c825"
   }
  }
 },
 "nbformat": 4,
 "nbformat_minor": 2
}
